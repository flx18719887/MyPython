{
 "cells": [
  {
   "cell_type": "markdown",
   "metadata": {},
   "source": [
    "## 流程控制语句"
   ]
  },
  {
   "cell_type": "markdown",
   "metadata": {},
   "source": [
    "在Python中，有三种控制流类型：\n",
    "\n",
    "顺序结构\n",
    "\n",
    "分支结构\n",
    "\n",
    "循环结构\n",
    "\n",
    "复杂的语句也都是由这三个基本的控制流组成的。\n"
   ]
  },
  {
   "cell_type": "markdown",
   "metadata": {},
   "source": [
    "### 顺序结构"
   ]
  },
  {
   "cell_type": "markdown",
   "metadata": {},
   "source": [
    "顺序结构就是普通的自上而下运行的代码结构\n",
    "```python\n",
    "a = '顺序结构\n",
    "print(a)\n",
    "b = '自上而下'\n",
    "print(b)\n",
    "c = '逐条运行'\n",
    "print(c)\n",
    "```"
   ]
  },
  {
   "cell_type": "markdown",
   "metadata": {},
   "source": [
    "### 分支结构"
   ]
  },
  {
   "cell_type": "markdown",
   "metadata": {},
   "source": [
    "分支结构又称为条件控制语句。\n",
    "\n",
    "Python条件语句是通过一条或多条语句的执行结果（True或者False）\n",
    "来决定执行的代码块。\n",
    "```python\n",
    "if <条件判断1>:\n",
    "    <执行语句块1>\n",
    "elif <条件判断2>:\n",
    "    <执行语句块2>\n",
    "elif <条件判断3>:\n",
    "    <执行语句块3>\n",
    "else:\n",
    "    <执行语句块4>\n",
    "```"
   ]
  },
  {
   "cell_type": "code",
   "execution_count": 7,
   "metadata": {
    "scrolled": true
   },
   "outputs": [
    {
     "name": "stdout",
     "output_type": "stream",
     "text": [
      "请输入您的年龄： 30\n",
      "your age is 30\n",
      "adult\n"
     ]
    }
   ],
   "source": [
    "# 判断输入的年龄是否已成年：\n",
    "# 单分支结构\n",
    "age = int(input('请输入您的年龄： '))\n",
    "if age >= 18:\n",
    "    print('your age is',age)\n",
    "    print('adult')\n"
   ]
  },
  {
   "cell_type": "code",
   "execution_count": 9,
   "metadata": {},
   "outputs": [
    {
     "name": "stdout",
     "output_type": "stream",
     "text": [
      "请输入您的年龄： 23\n",
      "your age is 23\n",
      "adult\n"
     ]
    }
   ],
   "source": [
    "# 搭配else使用：二分支结构\n",
    "age = int(input('请输入您的年龄： '))\n",
    "if age >= 18:\n",
    "    print('your age is',age)\n",
    "    print('adult')\n",
    "else:\n",
    "    print('you age is', age)\n",
    "    print('teenager')\n",
    " "
   ]
  },
  {
   "cell_type": "code",
   "execution_count": 13,
   "metadata": {},
   "outputs": [
    {
     "name": "stdout",
     "output_type": "stream",
     "text": [
      "请输入您的年龄： 45\n",
      "your age is 45\n",
      "adult\n"
     ]
    }
   ],
   "source": [
    "# 搭配elif使用，新增判断条件：多分支结构\n",
    "age = int(input('请输入您的年龄： '))\n",
    "if age >= 18:\n",
    "    print('your age is',age)\n",
    "    print('adult')\n",
    "elif age >=6 :\n",
    "    print('teenager')\n",
    "else:\n",
    "    print('kid')"
   ]
  },
  {
   "cell_type": "code",
   "execution_count": null,
   "metadata": {},
   "outputs": [],
   "source": []
  },
  {
   "cell_type": "markdown",
   "metadata": {},
   "source": [
    "## if条件判断"
   ]
  },
  {
   "cell_type": "code",
   "execution_count": 14,
   "metadata": {},
   "outputs": [
    {
     "name": "stdout",
     "output_type": "stream",
     "text": [
      "这句执行了\n",
      "一定会执行\n"
     ]
    }
   ],
   "source": [
    "a = 1\n",
    "if a == 1:\n",
    "    print('这句执行了')\n",
    "print('一定会执行')"
   ]
  },
  {
   "cell_type": "code",
   "execution_count": 15,
   "metadata": {},
   "outputs": [
    {
     "name": "stdout",
     "output_type": "stream",
     "text": [
      "一定会执行\n"
     ]
    }
   ],
   "source": [
    "a = 2\n",
    "if a == 1:\n",
    "    print('这句不执行')\n",
    "print('一定会执行')"
   ]
  },
  {
   "cell_type": "code",
   "execution_count": 16,
   "metadata": {},
   "outputs": [
    {
     "name": "stdout",
     "output_type": "stream",
     "text": [
      "if内部代码\n",
      "一定会执行\n"
     ]
    }
   ],
   "source": [
    "a = 1\n",
    "if a == 1:\n",
    "    print('if内部代码')\n",
    "else:\n",
    "    print('else内部代码')\n",
    "    \n",
    "    \n",
    "print('一定会执行')"
   ]
  },
  {
   "cell_type": "code",
   "execution_count": null,
   "metadata": {},
   "outputs": [],
   "source": [
    "a = 3\n",
    "if a == 1:\n",
    "    print('if内部代码')\n",
    "elif a == 2:\n",
    "    print('elif内部代码')\n",
    "else:\n",
    "    print('else内部代码')\n",
    "    \n",
    "\n",
    "print('一定会执行')"
   ]
  },
  {
   "cell_type": "code",
   "execution_count": 17,
   "metadata": {},
   "outputs": [
    {
     "name": "stdout",
     "output_type": "stream",
     "text": [
      "elif内部代码3\n",
      "一定会执行\n"
     ]
    }
   ],
   "source": [
    "a = 3\n",
    "if a == 1:\n",
    "    print('if内部代码')\n",
    "elif a == 2:\n",
    "    print('elif内部代码2')\n",
    "elif a == 3:\n",
    "    print('elif内部代码3')\n",
    "elif a == 4:\n",
    "    print('elif内部代码4')\n",
    "else:\n",
    "    print('else内部代码')\n",
    "    \n",
    "\n",
    "print('一定会执行')"
   ]
  },
  {
   "cell_type": "code",
   "execution_count": null,
   "metadata": {},
   "outputs": [],
   "source": []
  },
  {
   "cell_type": "markdown",
   "metadata": {},
   "source": [
    "### 练习一\n",
    "预设：age = 20, time = 60\n",
    "\n",
    "请使用if函数写出以下逻辑:\n",
    "如果年龄age在24岁或以下，并且每天使用电脑的时间time超过30分钟，则打印\"这个人喜欢电脑游戏\";如果每天使用电脑的时间少于30分钟，则打印\"这个人不喜欢电脑游戏\"。如果年龄age在24岁以上，则打印\"不在调查范围内\"。"
   ]
  },
  {
   "cell_type": "code",
   "execution_count": 23,
   "metadata": {},
   "outputs": [
    {
     "name": "stdout",
     "output_type": "stream",
     "text": [
      "请输入您的年龄：25\n",
      "不在调查范围内！\n"
     ]
    }
   ],
   "source": [
    "age = int(input('请输入您的年龄：'))\n",
    "if age <= 24:\n",
    "    time = int(input('每天使用电脑的时间：'))\n",
    "    if time >= 30:\n",
    "        print('这个人喜欢玩电脑游戏！')\n",
    "    else:\n",
    "        print('这个人不喜欢电脑游戏！')\n",
    "else:\n",
    "    print('不在调查范围内！')\n",
    "\n"
   ]
  },
  {
   "cell_type": "code",
   "execution_count": 2,
   "metadata": {},
   "outputs": [
    {
     "name": "stdout",
     "output_type": "stream",
     "text": [
      "这个人喜欢电脑游戏\n"
     ]
    }
   ],
   "source": [
    "age = 20\n",
    "time = 60\n",
    "\n",
    "if age <= 24: \n",
    "    if time >= 30:\n",
    "        print('这个人喜欢电脑游戏')\n",
    "    else:\n",
    "        print('这个人不喜欢电脑游戏')\n",
    "else:\n",
    "    print('不在调查范围内')"
   ]
  },
  {
   "cell_type": "code",
   "execution_count": 1,
   "metadata": {},
   "outputs": [
    {
     "name": "stdout",
     "output_type": "stream",
     "text": [
      "这个人喜欢电脑游戏\n"
     ]
    }
   ],
   "source": [
    "age = 20\n",
    "time = 60\n",
    "\n",
    "if age <= 24 and time >= 30: \n",
    "    print('这个人喜欢电脑游戏')\n",
    "else:\n",
    "    print('这个人不喜欢电脑游戏')\n",
    "\n",
    " "
   ]
  },
  {
   "cell_type": "markdown",
   "metadata": {},
   "source": [
    "### 练习二\n",
    "\n",
    "小明身高1.75，体重80.5kg。请根据BMI公式（体重除以身高(单位米)的平方）帮小明计算他的BMI指数，\n",
    "\n",
    "并根据BMI指数：\n",
    "\n",
    "低于18.5：过轻 18.5-25：正常 25-28：过重 28-32：肥胖 高于32：严重肥胖 用if-elif判断并打印结果："
   ]
  },
  {
   "cell_type": "code",
   "execution_count": 26,
   "metadata": {},
   "outputs": [
    {
     "name": "stdout",
     "output_type": "stream",
     "text": [
      "请输入您的身高：1.85\n",
      "请输入您的体重：100\n",
      "29.218407596785973\n",
      "肥胖！\n"
     ]
    }
   ],
   "source": [
    "height = float(input('请输入您的身高：'))\n",
    "weight = float(input('请输入您的体重：'))\n",
    "BMI = weight / (height ** 2)\n",
    "print(BMI)\n",
    "\n",
    "if BMI < 18.5:\n",
    "    print('过轻！')\n",
    "elif BMI < 25:\n",
    "    print('正常！')\n",
    "elif BMI < 28:\n",
    "    print('过重！')\n",
    "elif BMI < 32:\n",
    "    print('肥胖！')\n",
    "else:\n",
    "    print('严重肥胖！')\n",
    "\n",
    "    "
   ]
  },
  {
   "cell_type": "code",
   "execution_count": null,
   "metadata": {},
   "outputs": [],
   "source": [
    "# height = 1.75\n",
    "# weight = 80.5\n",
    "height = float(input('请输入您的身高：'))\n",
    "weight = float(input('请输入您的体重：'))\n",
    "BMI = weight / (height** 2)\n",
    "\n",
    "if BMI < 18.5:\n",
    "    print('过轻')\n",
    "elif BMI < 25:\n",
    "    print('正常')\n",
    "elif BMI < 28:\n",
    "    print('过重')\n",
    "elif BMI < 32:\n",
    "    print('肥胖')\n",
    "else:\n",
    "    print('严重肥胖')"
   ]
  },
  {
   "cell_type": "markdown",
   "metadata": {},
   "source": [
    "### 练习三\n",
    "要求：从键盘获取自己的年龄，判断是否大于或者等于18岁，如果满足就输出“哥，已成年，网吧可以去了”\n",
    "\n",
    "使用input从键盘中获取数据，并且存入到一个变量中\n",
    "使用if语句，来判断 age>=18是否成立"
   ]
  },
  {
   "cell_type": "code",
   "execution_count": 29,
   "metadata": {},
   "outputs": [
    {
     "name": "stdout",
     "output_type": "stream",
     "text": [
      "请输入您的年龄：9\n",
      "未成年，不能去网吧哦！\n"
     ]
    }
   ],
   "source": [
    "age = int(input('请输入您的年龄：'))\n",
    "if age >= 18:\n",
    "    print('哥，已成年，网吧可以去啦！')\n",
    "else:\n",
    "    print('未成年，不能去网吧哦！')\n",
    "    \n"
   ]
  },
  {
   "cell_type": "code",
   "execution_count": 2,
   "metadata": {},
   "outputs": [
    {
     "name": "stdout",
     "output_type": "stream",
     "text": [
      "请输入您的年龄：23\n",
      "哥，已成年，网吧可以去了！\n"
     ]
    }
   ],
   "source": [
    "age = int(input('请输入您的年龄：'))\n",
    "\n",
    "if age >= 18:\n",
    "    print('哥，已成年，网吧可以去了！')\n",
    "else:\n",
    "    print('未成年，不可以去网吧哦！')"
   ]
  },
  {
   "cell_type": "markdown",
   "metadata": {},
   "source": [
    "## if 嵌套"
   ]
  },
  {
   "cell_type": "markdown",
   "metadata": {},
   "source": [
    "通过学习if的基本用法，已经知道了\n",
    "\n",
    "当需要满足条件去做事情的这种情况需要使用if\n",
    "当满足条件时做事情A，不满足条件做事情B的这种情况使用if-else\n",
    "想一想：\n",
    "\n",
    "坐火车或者地铁的实际情况是：先进行安检如果安检通过才会判断是否有车票，或者是先检查是否有车票之后才会进行安检，即实际的情况某个判断是再另外一个判断成立的基础上进行的，这样的情况该怎样解决呢？\n",
    "\n",
    "答：\n",
    "if嵌套"
   ]
  },
  {
   "cell_type": "markdown",
   "metadata": {},
   "source": [
    "if嵌套的格式\n",
    "```python\n",
    " if 条件1:\n",
    "    满足条件1 做的事情1\n",
    "    满足条件1 做的事情2\n",
    "    ...(省略)...\n",
    "\n",
    "    if 条件2:\n",
    "        满足条件2 做的事情1\n",
    "        满足条件2 做的事情2\n",
    "        ...(省略)...```\n",
    " "
   ]
  },
  {
   "cell_type": "code",
   "execution_count": 33,
   "metadata": {},
   "outputs": [
    {
     "name": "stdout",
     "output_type": "stream",
     "text": [
      "请输入1：代表有车票，0：代表没有车票0\n",
      "没有车票，不能进站！\n",
      "亲爱的，那就下次见了，一票难求啊~~~（>_<）~~~~\n"
     ]
    }
   ],
   "source": [
    "card = int(input('请输入1：代表有车票，0：代表没有车票'))\n",
    "if card == 1:\n",
    "    print('有车票，可以进站！')\n",
    "    knifelen = int(input('请输入您的刀子的长度：'))\n",
    "    if knifelen < 10:\n",
    "        print('通过安检！')\n",
    "        print('终于可以见到他了，美滋滋！')\n",
    "    else:\n",
    "        print('没有通过安检！')\n",
    "        print('刀子的长度超过规定，等待警察处理。。。')\n",
    "else:\n",
    "    print('没有车票，不能进站！')\n",
    "    print('亲爱的，那就下次见了，一票难求啊~~~（>_<）~~~~')"
   ]
  },
  {
   "cell_type": "code",
   "execution_count": 3,
   "metadata": {},
   "outputs": [
    {
     "name": "stdout",
     "output_type": "stream",
     "text": [
      "有车票，可以进站\n",
      "通过安检\n",
      "终于可以见到Ta了，美滋滋~~~\n"
     ]
    }
   ],
   "source": [
    "Card = 1     # 用1代表有车票，0代表没有车票\n",
    "KnifeLen = 9     # 刀子的长度，单位为cm\n",
    "\n",
    "if Card == 1:\n",
    "    print(\"有车票，可以进站\")\n",
    "    if KnifeLen < 10:\n",
    "        print(\"通过安检\")\n",
    "        print(\"终于可以见到Ta了，美滋滋~~~\")\n",
    "    else:\n",
    "        print(\"没有通过安检\")\n",
    "        print(\"刀子的长度超过规定，等待警察处理...\")\n",
    "else:\n",
    "    print(\"没有车票，不能进站\")\n",
    "    print(\"亲爱的，那就下次见了，一票难求啊~~~~(>_<)~~~~\")"
   ]
  },
  {
   "cell_type": "markdown",
   "metadata": {},
   "source": [
    "### 练习一\n",
    "\n",
    "情节描述：上公交车，并且可以有座位坐下\n",
    "\n",
    "要求：输入公交卡当前的余额，只要超过2元，就可以上公交车；如果空座位的数量大于0，就可以坐下"
   ]
  },
  {
   "cell_type": "code",
   "execution_count": 36,
   "metadata": {},
   "outputs": [
    {
     "name": "stdout",
     "output_type": "stream",
     "text": [
      "请输入您的公交卡当前余额：7\n",
      "可以上车！\n",
      "请输入空座位数量：0\n",
      "默默地站着！\n"
     ]
    }
   ],
   "source": [
    "card = int(input('请输入您的公交卡当前余额：'))\n",
    "if card > 2:\n",
    "    print('可以上车！')\n",
    "    seat = int(input('请输入空座位数量：'))\n",
    "    if seat > 0:\n",
    "        print('请坐！')\n",
    "    else:\n",
    "        print('默默地站着！')\n",
    "else:\n",
    "    print('余额不足！')\n",
    "    print('亲爱的，那就下次见了，一票难求啊~~~~(><)~~~~')\n",
    "\n"
   ]
  },
  {
   "cell_type": "code",
   "execution_count": 8,
   "metadata": {},
   "outputs": [
    {
     "name": "stdout",
     "output_type": "stream",
     "text": [
      "请输入您的公交卡余额：3\n",
      "可以上公交车！\n",
      "输入空座位的数量：2\n",
      "坐！\n"
     ]
    }
   ],
   "source": [
    "# balance = int(input('请输入您的公交卡余额：'))\n",
    "# unocseat = int(input('输入空座位的数量：'))\n",
    "balance = input('请输入您的公交卡余额：')\n",
    "balance = int(balance)\n",
    "\n",
    "if balance > 2:\n",
    "    print('可以上公交车！')\n",
    "    unocseat = input('输入空座位的数量：')\n",
    "    unocseat = int(unocseat)\n",
    "    if unocseat > 0:\n",
    "        print('坐！')\n",
    "    else:\n",
    "        print('默默地站着！')\n",
    "else:\n",
    "    print('余额不足！')\n",
    "    print('亲爱的，那就下次见了，一票难求啊~~~(>_<)~~~')"
   ]
  },
  {
   "cell_type": "markdown",
   "metadata": {},
   "source": [
    "### 练习二 判断年份是否是闰年\n",
    "\n",
    "提示：\n",
    "1. 能被400整除的年份 \n",
    "2. 能被4整除，但是不能被100整除的年份\n",
    "3. 以上2种方法满足一种即为闰年"
   ]
  },
  {
   "cell_type": "code",
   "execution_count": 10,
   "metadata": {},
   "outputs": [
    {
     "name": "stdout",
     "output_type": "stream",
     "text": [
      "请输入年份：2000\n",
      "您输入的2000是闰年！\n"
     ]
    }
   ],
   "source": [
    "year = input('请输入年份：')\n",
    "if year.isdigit() and len(year) == 4:\n",
    "    year = int(year)\n",
    "    if year % 400 == 0 or (year % 4 == 0 and year % 100 != 0):\n",
    "        print('您输入的%s是闰年！' % year)\n",
    "    else:\n",
    "        print('您输入的%s是平年！' % year)\n",
    "else:\n",
    "    print('输入有误，请重新输入：')\n",
    "\n",
    "    \n"
   ]
  },
  {
   "cell_type": "code",
   "execution_count": 27,
   "metadata": {},
   "outputs": [
    {
     "name": "stdout",
     "output_type": "stream",
     "text": [
      "请输入年份：1996\n",
      "您输入的1996是闰年！\n",
      "您输入的1996是闰年年！！\n"
     ]
    }
   ],
   "source": [
    "year = input('请输入年份：')\n",
    "\n",
    "if year.isdigit() and len(year) == 4:  # 是数字并且长度为4才执行判断，\n",
    "    year = int(year)\n",
    "    if year % 400 == 0 or (year % 4 == 0 and year % 100 != 0):\n",
    "        print('您输入的{}是闰年！' .format(year))\n",
    "        print('您输入的%s是闰年年！！' % year)\n",
    "\n",
    "    else:\n",
    "        print('您输入的{}是平年！' .format(year))\n",
    "        print('您输入的%s是平年！！' % year)\n",
    "        \n",
    "else:\n",
    "    print('输入错误请重新输入：')\n",
    "    \n",
    "        "
   ]
  },
  {
   "cell_type": "code",
   "execution_count": null,
   "metadata": {},
   "outputs": [],
   "source": []
  }
 ],
 "metadata": {
  "kernelspec": {
   "display_name": "Python 3",
   "language": "python",
   "name": "python3"
  },
  "language_info": {
   "codemirror_mode": {
    "name": "ipython",
    "version": 3
   },
   "file_extension": ".py",
   "mimetype": "text/x-python",
   "name": "python",
   "nbconvert_exporter": "python",
   "pygments_lexer": "ipython3",
   "version": "3.7.3"
  },
  "toc": {
   "base_numbering": 1,
   "nav_menu": {},
   "number_sections": true,
   "sideBar": true,
   "skip_h1_title": false,
   "title_cell": "Table of Contents",
   "title_sidebar": "Contents",
   "toc_cell": false,
   "toc_position": {},
   "toc_section_display": true,
   "toc_window_display": false
  }
 },
 "nbformat": 4,
 "nbformat_minor": 2
}
